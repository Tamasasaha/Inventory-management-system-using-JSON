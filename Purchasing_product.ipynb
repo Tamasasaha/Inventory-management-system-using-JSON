{
 "cells": [
  {
   "cell_type": "code",
   "execution_count": 1,
   "id": "a76b946f",
   "metadata": {},
   "outputs": [],
   "source": [
    "import json\n",
    "\n",
    "fd = open(\"record.json\",'r')\n",
    "r = fd.read()\n",
    "fd.close()\n",
    "\n",
    "records = json.loads(r)"
   ]
  },
  {
   "cell_type": "code",
   "execution_count": null,
   "id": "8478df1c",
   "metadata": {},
   "outputs": [],
   "source": [
    "records"
   ]
  },
  {
   "cell_type": "markdown",
   "id": "7da992ec",
   "metadata": {},
   "source": [
    "# Purchasing\n"
   ]
  },
  {
   "cell_type": "code",
   "execution_count": 167,
   "id": "d9c28b61",
   "metadata": {},
   "outputs": [
    {
     "name": "stdout",
     "output_type": "stream",
     "text": [
      "Enter the product Id: 11012\n",
      "Enter the quantity: 5\n",
      "\n",
      "\n",
      "\n",
      "\n",
      "BILL\n",
      "********\n",
      "Product:  Eggs\n",
      "Price:  5\n",
      "Quantity:  50\n",
      "Expire date: 28 Sept 2021\n",
      "Description:  Dairy\n",
      "----------------------------------------------------\n",
      "Billing Amount:  25\n",
      "----------------------------------------------------\n"
     ]
    }
   ],
   "source": [
    "ui_prod  = str(input(\"Enter the product Id: \"))\n",
    "ui_quant = int(input(\"Enter the quantity: \"))\n",
    "\n",
    "\n",
    "print(\"\\n\")\n",
    "print(\"\\n\")\n",
    "print(\"BILL\")\n",
    "print(\"********\")\n",
    "print(\"Product: \", records[ui_prod]['Name'])\n",
    "print(\"Price: \", records[ui_prod]['Price'])\n",
    "print(\"Quantity: \", records[ui_prod]['Quantity'])\n",
    "print(\"Expire date:\", records[ui_prod]['Expire date'])\n",
    "print(\"Description: \", records[ui_prod]['Description'])\n",
    "print(\"----------------------------------------------------\")\n",
    "print(\"Billing Amount: \", records[ui_prod]['Price']* ui_quant)\n",
    "print(\"----------------------------------------------------\")\n",
    "\n",
    "\n",
    "records[ui_prod]['Quantity'] = records[ui_prod]['Quantity'] - ui_quant"
   ]
  },
  {
   "cell_type": "markdown",
   "id": "447086d9",
   "metadata": {},
   "source": [
    "# Update inventory after purchase"
   ]
  },
  {
   "cell_type": "code",
   "execution_count": 162,
   "id": "23b7948b",
   "metadata": {},
   "outputs": [],
   "source": [
    "js = json.dumps(records)\n",
    "\n",
    "\n",
    "fd = open(\"record.json\",'w')\n",
    "fd.write(js)\n",
    "fd.close()"
   ]
  },
  {
   "cell_type": "markdown",
   "id": "fc9e8041",
   "metadata": {},
   "source": [
    "# Sales json\n"
   ]
  },
  {
   "cell_type": "markdown",
   "id": "8eeb2c17",
   "metadata": {},
   "source": [
    "Implementing the sales file."
   ]
  },
  {
   "cell_type": "code",
   "execution_count": 121,
   "id": "c12a3a7a",
   "metadata": {},
   "outputs": [],
   "source": [
    "import time\n",
    "sales = {1:{\"Product id:\":ui_prod, \"Quantity:\":ui_quant, \"Amount:\":records[ui_prod]['Price']* ui_quant,\"Time:\":time.ctime()}}"
   ]
  },
  {
   "cell_type": "code",
   "execution_count": 122,
   "id": "d4123775",
   "metadata": {},
   "outputs": [
    {
     "data": {
      "text/plain": [
       "{1: {'Product id:': '11007',\n",
       "  'Quantity:': 10,\n",
       "  'Amount:': 240,\n",
       "  'Time:': 'Sun Sep  5 21:15:52 2021'}}"
      ]
     },
     "execution_count": 122,
     "metadata": {},
     "output_type": "execute_result"
    }
   ],
   "source": [
    "sales\n"
   ]
  },
  {
   "cell_type": "markdown",
   "id": "bc7fb05f",
   "metadata": {},
   "source": [
    "**Adding product to sales file,\n",
    "execute from here**"
   ]
  },
  {
   "cell_type": "code",
   "execution_count": 168,
   "id": "d8306715",
   "metadata": {},
   "outputs": [],
   "source": [
    "sales[(len(sales)+1)]= {\"Product id:\":ui_prod, \"Quantity:\":ui_quant, \"Amount:\":records[ui_prod]['Price']* ui_quant,\"Time:\":time.ctime()}\n"
   ]
  },
  {
   "cell_type": "code",
   "execution_count": 169,
   "id": "06abf1c5",
   "metadata": {},
   "outputs": [
    {
     "data": {
      "text/plain": [
       "{1: {'Product id:': '11007',\n",
       "  'Quantity:': 10,\n",
       "  'Amount:': 240,\n",
       "  'Time:': 'Sun Sep  5 21:15:52 2021'},\n",
       " 2: {'Product id:': '11007',\n",
       "  'Quantity:': 10,\n",
       "  'Amount:': 240,\n",
       "  'Time:': 'Sun Sep  5 21:15:54 2021'},\n",
       " 3: {'Product id:': '11008',\n",
       "  'Quantity:': 10,\n",
       "  'Amount:': 300,\n",
       "  'Time:': 'Sun Sep  5 21:18:55 2021'},\n",
       " 4: {'Product id:': '11015',\n",
       "  'Quantity:': 10,\n",
       "  'Amount:': 400,\n",
       "  'Time:': 'Sun Sep  5 21:21:19 2021'},\n",
       " 5: {'Product id:': '11021',\n",
       "  'Quantity:': 5,\n",
       "  'Amount:': 175,\n",
       "  'Time:': 'Sun Sep  5 21:22:05 2021'},\n",
       " 6: {'Product id:': '11010',\n",
       "  'Quantity:': 5,\n",
       "  'Amount:': 100,\n",
       "  'Time:': 'Sun Sep  5 21:22:34 2021'},\n",
       " 7: {'Product id:': '11004',\n",
       "  'Quantity:': 5,\n",
       "  'Amount:': 200,\n",
       "  'Time:': 'Sun Sep  5 21:23:51 2021'},\n",
       " 8: {'Product id:': '11014',\n",
       "  'Quantity:': 5,\n",
       "  'Amount:': 150,\n",
       "  'Time:': 'Sun Sep  5 21:24:20 2021'},\n",
       " 9: {'Product id:': '11025',\n",
       "  'Quantity:': 10,\n",
       "  'Amount:': 6000,\n",
       "  'Time:': 'Sun Sep  5 21:26:03 2021'},\n",
       " 10: {'Product id:': '11012',\n",
       "  'Quantity:': 5,\n",
       "  'Amount:': 25,\n",
       "  'Time:': 'Sun Sep  5 21:26:44 2021'}}"
      ]
     },
     "execution_count": 169,
     "metadata": {},
     "output_type": "execute_result"
    }
   ],
   "source": [
    "sales"
   ]
  },
  {
   "cell_type": "code",
   "execution_count": 170,
   "id": "27e3775b",
   "metadata": {},
   "outputs": [],
   "source": [
    "sale = json.dumps(sales)"
   ]
  },
  {
   "cell_type": "code",
   "execution_count": 171,
   "id": "644489d1",
   "metadata": {},
   "outputs": [],
   "source": [
    "fd = open(\"sales.json\",'w')\n",
    "r = fd.write(sale)\n",
    "fd.close()"
   ]
  },
  {
   "cell_type": "code",
   "execution_count": null,
   "id": "e6b9262e",
   "metadata": {},
   "outputs": [],
   "source": []
  }
 ],
 "metadata": {
  "kernelspec": {
   "display_name": "Python 3",
   "language": "python",
   "name": "python3"
  },
  "language_info": {
   "codemirror_mode": {
    "name": "ipython",
    "version": 3
   },
   "file_extension": ".py",
   "mimetype": "text/x-python",
   "name": "python",
   "nbconvert_exporter": "python",
   "pygments_lexer": "ipython3",
   "version": "3.8.8"
  }
 },
 "nbformat": 4,
 "nbformat_minor": 5
}
