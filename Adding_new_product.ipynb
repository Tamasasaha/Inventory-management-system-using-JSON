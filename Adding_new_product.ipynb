{
 "cells": [
  {
   "cell_type": "code",
   "execution_count": 3,
   "id": "cca446a1",
   "metadata": {},
   "outputs": [],
   "source": [
    "record ={11001:{\"Name\": \"Apple\", \"Price\": 50, \"Quantity\": 100, \"Expire date\":\"12 Oct 2021\",\"Description\":\"Fruit\" }}"
   ]
  },
  {
   "cell_type": "code",
   "execution_count": 4,
   "id": "644373bc",
   "metadata": {},
   "outputs": [
    {
     "data": {
      "text/plain": [
       "{11001: {'Name': 'Apple',\n",
       "  'Price': 50,\n",
       "  'Quantity': 100,\n",
       "  'Expire date': '12 Oct 2021',\n",
       "  'Description': 'Fruit'}}"
      ]
     },
     "execution_count": 4,
     "metadata": {},
     "output_type": "execute_result"
    }
   ],
   "source": [
    "record"
   ]
  },
  {
   "cell_type": "code",
   "execution_count": 5,
   "id": "9114f41b",
   "metadata": {},
   "outputs": [],
   "source": [
    "import json"
   ]
  },
  {
   "cell_type": "code",
   "execution_count": 6,
   "id": "9618221c",
   "metadata": {},
   "outputs": [],
   "source": [
    "js = json.dumps(record)"
   ]
  },
  {
   "cell_type": "code",
   "execution_count": 7,
   "id": "b15936c2",
   "metadata": {},
   "outputs": [],
   "source": [
    "fd = open(\"record.json\",'w')\n",
    "fd.write(js)\n",
    "fd.close()"
   ]
  },
  {
   "cell_type": "code",
   "execution_count": 8,
   "id": "bf3e0a4f",
   "metadata": {},
   "outputs": [],
   "source": [
    "fd = open(\"record.json\",'r')\n",
    "r = fd.read()\n",
    "fd.close()\n",
    "\n",
    "record = json.loads(r)"
   ]
  },
  {
   "cell_type": "code",
   "execution_count": 9,
   "id": "eb8f1bd4",
   "metadata": {},
   "outputs": [
    {
     "data": {
      "text/plain": [
       "{'11001': {'Name': 'Apple',\n",
       "  'Price': 50,\n",
       "  'Quantity': 100,\n",
       "  'Expire date': '12 Oct 2021',\n",
       "  'Description': 'Fruit'}}"
      ]
     },
     "execution_count": 9,
     "metadata": {},
     "output_type": "execute_result"
    }
   ],
   "source": [
    "record"
   ]
  },
  {
   "cell_type": "code",
   "execution_count": 50,
   "id": "d862b4b6",
   "metadata": {},
   "outputs": [
    {
     "name": "stdout",
     "output_type": "stream",
     "text": [
      "Enter product id:11040\n",
      "Enter name:Fork \n",
      "Enter price:16\n",
      "Enter quantity:56\n",
      "Enter expire date:None\n",
      "Enter product description:Kitchen Item\n"
     ]
    }
   ],
   "source": [
    "Prod_id = str(input(\"Enter product id:\"))\n",
    "Name = str(input(\"Enter name:\"))\n",
    "Price = int(input(\"Enter price:\"))\n",
    "Quantity = int(input(\"Enter quantity:\"))\n",
    "Expire_date =  str(input(\"Enter expire date:\"))\n",
    "Description =  str(input(\"Enter product description:\"))\n",
    "\n",
    "record[Prod_id] = {'Name': Name, 'Price': Price, 'Quantity': Quantity, 'Expire date':Expire_date, 'Description':Description}\n",
    "\n",
    "js = json.dumps(record)\n",
    "\n",
    "fd = open(\"record.json\",'w')\n",
    "fd.write(js)\n",
    "fd.close()"
   ]
  },
  {
   "cell_type": "code",
   "execution_count": null,
   "id": "f24e1e01",
   "metadata": {},
   "outputs": [],
   "source": []
  }
 ],
 "metadata": {
  "kernelspec": {
   "display_name": "Python 3",
   "language": "python",
   "name": "python3"
  },
  "language_info": {
   "codemirror_mode": {
    "name": "ipython",
    "version": 3
   },
   "file_extension": ".py",
   "mimetype": "text/x-python",
   "name": "python",
   "nbconvert_exporter": "python",
   "pygments_lexer": "ipython3",
   "version": "3.8.8"
  }
 },
 "nbformat": 4,
 "nbformat_minor": 5
}
